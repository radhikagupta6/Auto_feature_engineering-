{
  "nbformat": 4,
  "nbformat_minor": 0,
  "metadata": {
    "colab": {
      "name": "featuretools.ipynb",
      "provenance": []
    },
    "kernelspec": {
      "name": "python3",
      "display_name": "Python 3"
    }
  },
  "cells": [
    {
      "cell_type": "markdown",
      "metadata": {
        "id": "mbZsJvU0Dpw9"
      },
      "source": [
        "Taken BigMart Sales dataset, Since we require a relational dataset having unique identifiers in it. "
      ]
    },
    {
      "cell_type": "code",
      "metadata": {
        "id": "4NHdOZqmLNez",
        "outputId": "e508e8ae-df30-4ed4-b0fb-b0d396392efb",
        "colab": {
          "base_uri": "https://localhost:8080/",
          "height": 910
        }
      },
      "source": [
        "pip install featuretools"
      ],
      "execution_count": 4,
      "outputs": [
        {
          "output_type": "stream",
          "text": [
            "Collecting featuretools\n",
            "\u001b[?25l  Downloading https://files.pythonhosted.org/packages/a6/55/5e206fff0ecfec66e9d95248a9302b0d691f1312afa71e96323a83963e19/featuretools-0.20.0-py3-none-any.whl (287kB)\n",
            "\u001b[K     |████████████████████████████████| 296kB 2.8MB/s \n",
            "\u001b[?25hRequirement already satisfied: scipy>=0.13.3 in /usr/local/lib/python3.6/dist-packages (from featuretools) (1.4.1)\n",
            "Requirement already satisfied: psutil>=5.4.8 in /usr/local/lib/python3.6/dist-packages (from featuretools) (5.4.8)\n",
            "Requirement already satisfied: click>=7.0.0 in /usr/local/lib/python3.6/dist-packages (from featuretools) (7.1.2)\n",
            "Requirement already satisfied: tqdm>=4.32.0 in /usr/local/lib/python3.6/dist-packages (from featuretools) (4.41.1)\n",
            "Requirement already satisfied: pyyaml>=3.12 in /usr/local/lib/python3.6/dist-packages (from featuretools) (3.13)\n",
            "Requirement already satisfied: pandas!=1.1.0,!=1.1.1,<2.0.0,>=0.24.1 in /usr/local/lib/python3.6/dist-packages (from featuretools) (1.1.2)\n",
            "Requirement already satisfied: cloudpickle>=0.4.0 in /usr/local/lib/python3.6/dist-packages (from featuretools) (1.3.0)\n",
            "Collecting distributed>=2.12.0\n",
            "\u001b[?25l  Downloading https://files.pythonhosted.org/packages/70/70/cc541748094fb20ea45437da3c65cf28f8ff8d4afa54cd8ab776067859b1/distributed-2.29.0-py3-none-any.whl (653kB)\n",
            "\u001b[K     |████████████████████████████████| 655kB 8.9MB/s \n",
            "\u001b[?25hRequirement already satisfied: dask[dataframe]>=2.12.0 in /usr/local/lib/python3.6/dist-packages (from featuretools) (2.12.0)\n",
            "Requirement already satisfied: numpy>=1.13.3 in /usr/local/lib/python3.6/dist-packages (from featuretools) (1.18.5)\n",
            "Requirement already satisfied: python-dateutil>=2.7.3 in /usr/local/lib/python3.6/dist-packages (from pandas!=1.1.0,!=1.1.1,<2.0.0,>=0.24.1->featuretools) (2.8.1)\n",
            "Requirement already satisfied: pytz>=2017.2 in /usr/local/lib/python3.6/dist-packages (from pandas!=1.1.0,!=1.1.1,<2.0.0,>=0.24.1->featuretools) (2018.9)\n",
            "Requirement already satisfied: setuptools in /usr/local/lib/python3.6/dist-packages (from distributed>=2.12.0->featuretools) (50.3.0)\n",
            "Requirement already satisfied: tornado>=5; python_version < \"3.8\" in /usr/local/lib/python3.6/dist-packages (from distributed>=2.12.0->featuretools) (5.1.1)\n",
            "Requirement already satisfied: sortedcontainers!=2.0.0,!=2.0.1 in /usr/local/lib/python3.6/dist-packages (from distributed>=2.12.0->featuretools) (2.2.2)\n",
            "Requirement already satisfied: msgpack>=0.6.0 in /usr/local/lib/python3.6/dist-packages (from distributed>=2.12.0->featuretools) (1.0.0)\n",
            "Requirement already satisfied: zict>=0.1.3 in /usr/local/lib/python3.6/dist-packages (from distributed>=2.12.0->featuretools) (2.0.0)\n",
            "Requirement already satisfied: toolz>=0.8.2 in /usr/local/lib/python3.6/dist-packages (from distributed>=2.12.0->featuretools) (0.11.1)\n",
            "Collecting contextvars; python_version < \"3.7\"\n",
            "  Downloading https://files.pythonhosted.org/packages/83/96/55b82d9f13763be9d672622e1b8106c85acb83edd7cc2fa5bc67cd9877e9/contextvars-2.4.tar.gz\n",
            "Requirement already satisfied: tblib>=1.6.0 in /usr/local/lib/python3.6/dist-packages (from distributed>=2.12.0->featuretools) (1.7.0)\n",
            "Collecting fsspec>=0.6.0; extra == \"dataframe\"\n",
            "\u001b[?25l  Downloading https://files.pythonhosted.org/packages/4c/38/39b83c70ff47192255c15da1b602322cb9918682199d5c1d9cf128bdd531/fsspec-0.8.3-py3-none-any.whl (88kB)\n",
            "\u001b[K     |████████████████████████████████| 92kB 5.9MB/s \n",
            "\u001b[?25hCollecting partd>=0.3.10; extra == \"dataframe\"\n",
            "  Downloading https://files.pythonhosted.org/packages/44/e1/68dbe731c9c067655bff1eca5b7d40c20ca4b23fd5ec9f3d17e201a6f36b/partd-1.1.0-py3-none-any.whl\n",
            "Requirement already satisfied: six>=1.5 in /usr/local/lib/python3.6/dist-packages (from python-dateutil>=2.7.3->pandas!=1.1.0,!=1.1.1,<2.0.0,>=0.24.1->featuretools) (1.15.0)\n",
            "Requirement already satisfied: heapdict in /usr/local/lib/python3.6/dist-packages (from zict>=0.1.3->distributed>=2.12.0->featuretools) (1.0.1)\n",
            "Collecting immutables>=0.9\n",
            "\u001b[?25l  Downloading https://files.pythonhosted.org/packages/99/e0/ea6fd4697120327d26773b5a84853f897a68e33d3f9376b00a8ff96e4f63/immutables-0.14-cp36-cp36m-manylinux1_x86_64.whl (98kB)\n",
            "\u001b[K     |████████████████████████████████| 102kB 4.9MB/s \n",
            "\u001b[?25hCollecting locket\n",
            "  Downloading https://files.pythonhosted.org/packages/d0/22/3c0f97614e0be8386542facb3a7dcfc2584f7b83608c02333bced641281c/locket-0.2.0.tar.gz\n",
            "Building wheels for collected packages: contextvars, locket\n",
            "  Building wheel for contextvars (setup.py) ... \u001b[?25l\u001b[?25hdone\n",
            "  Created wheel for contextvars: filename=contextvars-2.4-cp36-none-any.whl size=7666 sha256=65a3b26da8bf6933f7afaf612675ffbc2cd114d0ca4eed60eb2a1e0465118685\n",
            "  Stored in directory: /root/.cache/pip/wheels/a5/7d/68/1ebae2668bda2228686e3c1cf16f2c2384cea6e9334ad5f6de\n",
            "  Building wheel for locket (setup.py) ... \u001b[?25l\u001b[?25hdone\n",
            "  Created wheel for locket: filename=locket-0.2.0-cp36-none-any.whl size=4040 sha256=3b2c0689040af1683f9f013a7347aae2815b57881b2f325b7dc7a4ea8c17d59f\n",
            "  Stored in directory: /root/.cache/pip/wheels/26/1e/e8/4fa236ec931b1a0cdd61578e20d4934d7bf188858723b84698\n",
            "Successfully built contextvars locket\n",
            "\u001b[31mERROR: distributed 2.29.0 has requirement cloudpickle>=1.5.0, but you'll have cloudpickle 1.3.0 which is incompatible.\u001b[0m\n",
            "Installing collected packages: immutables, contextvars, distributed, featuretools, fsspec, locket, partd\n",
            "  Found existing installation: distributed 1.25.3\n",
            "    Uninstalling distributed-1.25.3:\n",
            "      Successfully uninstalled distributed-1.25.3\n",
            "Successfully installed contextvars-2.4 distributed-2.29.0 featuretools-0.20.0 fsspec-0.8.3 immutables-0.14 locket-0.2.0 partd-1.1.0\n"
          ],
          "name": "stdout"
        }
      ]
    },
    {
      "cell_type": "code",
      "metadata": {
        "id": "7aRSCKRqCxSI"
      },
      "source": [
        "import featuretools as ft\n",
        "from sklearn.model_selection import train_test_split\n",
        "import numpy as np\n",
        "import pandas as pd"
      ],
      "execution_count": 5,
      "outputs": []
    },
    {
      "cell_type": "code",
      "metadata": {
        "id": "RNIzgCUWQHtc"
      },
      "source": [
        "test = pd.read_csv('/content/Test.csv')\n",
        "train = pd.read_csv('/content/Train.csv')"
      ],
      "execution_count": 6,
      "outputs": []
    },
    {
      "cell_type": "code",
      "metadata": {
        "id": "Noq7HvxTQQ4H",
        "outputId": "4e2fc115-5749-4a6f-aa54-a2012f9cd09e",
        "colab": {
          "base_uri": "https://localhost:8080/",
          "height": 299
        }
      },
      "source": [
        "train.head()"
      ],
      "execution_count": 7,
      "outputs": [
        {
          "output_type": "execute_result",
          "data": {
            "text/html": [
              "<div>\n",
              "<style scoped>\n",
              "    .dataframe tbody tr th:only-of-type {\n",
              "        vertical-align: middle;\n",
              "    }\n",
              "\n",
              "    .dataframe tbody tr th {\n",
              "        vertical-align: top;\n",
              "    }\n",
              "\n",
              "    .dataframe thead th {\n",
              "        text-align: right;\n",
              "    }\n",
              "</style>\n",
              "<table border=\"1\" class=\"dataframe\">\n",
              "  <thead>\n",
              "    <tr style=\"text-align: right;\">\n",
              "      <th></th>\n",
              "      <th>Item_Identifier</th>\n",
              "      <th>Item_Weight</th>\n",
              "      <th>Item_Fat_Content</th>\n",
              "      <th>Item_Visibility</th>\n",
              "      <th>Item_Type</th>\n",
              "      <th>Item_MRP</th>\n",
              "      <th>Outlet_Identifier</th>\n",
              "      <th>Outlet_Establishment_Year</th>\n",
              "      <th>Outlet_Size</th>\n",
              "      <th>Outlet_Location_Type</th>\n",
              "      <th>Outlet_Type</th>\n",
              "      <th>Item_Outlet_Sales</th>\n",
              "    </tr>\n",
              "  </thead>\n",
              "  <tbody>\n",
              "    <tr>\n",
              "      <th>0</th>\n",
              "      <td>FDA15</td>\n",
              "      <td>9.30</td>\n",
              "      <td>Low Fat</td>\n",
              "      <td>0.016047</td>\n",
              "      <td>Dairy</td>\n",
              "      <td>249.8092</td>\n",
              "      <td>OUT049</td>\n",
              "      <td>1999</td>\n",
              "      <td>Medium</td>\n",
              "      <td>Tier 1</td>\n",
              "      <td>Supermarket Type1</td>\n",
              "      <td>3735.1380</td>\n",
              "    </tr>\n",
              "    <tr>\n",
              "      <th>1</th>\n",
              "      <td>DRC01</td>\n",
              "      <td>5.92</td>\n",
              "      <td>Regular</td>\n",
              "      <td>0.019278</td>\n",
              "      <td>Soft Drinks</td>\n",
              "      <td>48.2692</td>\n",
              "      <td>OUT018</td>\n",
              "      <td>2009</td>\n",
              "      <td>Medium</td>\n",
              "      <td>Tier 3</td>\n",
              "      <td>Supermarket Type2</td>\n",
              "      <td>443.4228</td>\n",
              "    </tr>\n",
              "    <tr>\n",
              "      <th>2</th>\n",
              "      <td>FDN15</td>\n",
              "      <td>17.50</td>\n",
              "      <td>Low Fat</td>\n",
              "      <td>0.016760</td>\n",
              "      <td>Meat</td>\n",
              "      <td>141.6180</td>\n",
              "      <td>OUT049</td>\n",
              "      <td>1999</td>\n",
              "      <td>Medium</td>\n",
              "      <td>Tier 1</td>\n",
              "      <td>Supermarket Type1</td>\n",
              "      <td>2097.2700</td>\n",
              "    </tr>\n",
              "    <tr>\n",
              "      <th>3</th>\n",
              "      <td>FDX07</td>\n",
              "      <td>19.20</td>\n",
              "      <td>Regular</td>\n",
              "      <td>0.000000</td>\n",
              "      <td>Fruits and Vegetables</td>\n",
              "      <td>182.0950</td>\n",
              "      <td>OUT010</td>\n",
              "      <td>1998</td>\n",
              "      <td>NaN</td>\n",
              "      <td>Tier 3</td>\n",
              "      <td>Grocery Store</td>\n",
              "      <td>732.3800</td>\n",
              "    </tr>\n",
              "    <tr>\n",
              "      <th>4</th>\n",
              "      <td>NCD19</td>\n",
              "      <td>8.93</td>\n",
              "      <td>Low Fat</td>\n",
              "      <td>0.000000</td>\n",
              "      <td>Household</td>\n",
              "      <td>53.8614</td>\n",
              "      <td>OUT013</td>\n",
              "      <td>1987</td>\n",
              "      <td>High</td>\n",
              "      <td>Tier 3</td>\n",
              "      <td>Supermarket Type1</td>\n",
              "      <td>994.7052</td>\n",
              "    </tr>\n",
              "  </tbody>\n",
              "</table>\n",
              "</div>"
            ],
            "text/plain": [
              "  Item_Identifier  Item_Weight  ...        Outlet_Type  Item_Outlet_Sales\n",
              "0           FDA15         9.30  ...  Supermarket Type1          3735.1380\n",
              "1           DRC01         5.92  ...  Supermarket Type2           443.4228\n",
              "2           FDN15        17.50  ...  Supermarket Type1          2097.2700\n",
              "3           FDX07        19.20  ...      Grocery Store           732.3800\n",
              "4           NCD19         8.93  ...  Supermarket Type1           994.7052\n",
              "\n",
              "[5 rows x 12 columns]"
            ]
          },
          "metadata": {
            "tags": []
          },
          "execution_count": 7
        }
      ]
    },
    {
      "cell_type": "code",
      "metadata": {
        "id": "5Oa2ty4LDVD2"
      },
      "source": [
        "target = train['Item_Outlet_Sales']\n",
        "train.drop(['Item_Outlet_Sales'], axis=1, inplace=True)"
      ],
      "execution_count": 15,
      "outputs": []
    },
    {
      "cell_type": "code",
      "metadata": {
        "id": "PFaYDBCEQeR_",
        "outputId": "48bbe367-0d01-4110-b748-0fd8d1d8e9cc",
        "colab": {
          "base_uri": "https://localhost:8080/",
          "height": 34
        }
      },
      "source": [
        "train.shape"
      ],
      "execution_count": 13,
      "outputs": [
        {
          "output_type": "execute_result",
          "data": {
            "text/plain": [
              "(8523, 12)"
            ]
          },
          "metadata": {
            "tags": []
          },
          "execution_count": 13
        }
      ]
    },
    {
      "cell_type": "code",
      "metadata": {
        "id": "IkLf1ggTQrQs",
        "outputId": "9a696968-c9f0-446c-9fef-aeec52f2bb4b",
        "colab": {
          "base_uri": "https://localhost:8080/",
          "height": 34
        }
      },
      "source": [
        "test.shape"
      ],
      "execution_count": 14,
      "outputs": [
        {
          "output_type": "execute_result",
          "data": {
            "text/plain": [
              "(5681, 11)"
            ]
          },
          "metadata": {
            "tags": []
          },
          "execution_count": 14
        }
      ]
    },
    {
      "cell_type": "code",
      "metadata": {
        "id": "EYSajIgSDJaN"
      },
      "source": [
        "primarykey_itemid = test['Item_Identifier']\n",
        "primarykey_outletid = test['Outlet_Identifier']"
      ],
      "execution_count": 17,
      "outputs": []
    },
    {
      "cell_type": "code",
      "metadata": {
        "id": "JlYvx1nMEZ8j",
        "outputId": "1fbfe925-7b55-4fb4-e367-a00788af65c0",
        "colab": {
          "base_uri": "https://localhost:8080/",
          "height": 218
        }
      },
      "source": [
        "train.isnull().sum()"
      ],
      "execution_count": 18,
      "outputs": [
        {
          "output_type": "execute_result",
          "data": {
            "text/plain": [
              "Item_Identifier                 0\n",
              "Item_Weight                  1463\n",
              "Item_Fat_Content                0\n",
              "Item_Visibility                 0\n",
              "Item_Type                       0\n",
              "Item_MRP                        0\n",
              "Outlet_Identifier               0\n",
              "Outlet_Establishment_Year       0\n",
              "Outlet_Size                  2410\n",
              "Outlet_Location_Type            0\n",
              "Outlet_Type                     0\n",
              "dtype: int64"
            ]
          },
          "metadata": {
            "tags": []
          },
          "execution_count": 18
        }
      ]
    },
    {
      "cell_type": "code",
      "metadata": {
        "id": "rqr0lACMEk-0",
        "outputId": "e2989b40-b704-40f8-aded-6f267cea91e5",
        "colab": {
          "base_uri": "https://localhost:8080/",
          "height": 218
        }
      },
      "source": [
        "test.isnull().sum()"
      ],
      "execution_count": 19,
      "outputs": [
        {
          "output_type": "execute_result",
          "data": {
            "text/plain": [
              "Item_Identifier                 0\n",
              "Item_Weight                   976\n",
              "Item_Fat_Content                0\n",
              "Item_Visibility                 0\n",
              "Item_Type                       0\n",
              "Item_MRP                        0\n",
              "Outlet_Identifier               0\n",
              "Outlet_Establishment_Year       0\n",
              "Outlet_Size                  1606\n",
              "Outlet_Location_Type            0\n",
              "Outlet_Type                     0\n",
              "dtype: int64"
            ]
          },
          "metadata": {
            "tags": []
          },
          "execution_count": 19
        }
      ]
    },
    {
      "cell_type": "code",
      "metadata": {
        "id": "VYbqGYJuEpla"
      },
      "source": [
        "train['Item_Weight'].fillna(train['Item_Weight'].mean(), inplace = True)\n",
        "test['Item_Weight'].fillna(test['Item_Weight'].mean(), inplace = True)\n",
        "train['Outlet_Size'].fillna(\"missing\", inplace = True)\n",
        "test['Outlet_Size'].fillna(\"missing\", inplace = True)"
      ],
      "execution_count": 20,
      "outputs": []
    },
    {
      "cell_type": "markdown",
      "metadata": {
        "id": "0IfDtMXOFJOh"
      },
      "source": [
        "In feature tools to perform the feature engineering process further we need a unique identifier. Hence making a common id from the two primary keys."
      ]
    },
    {
      "cell_type": "code",
      "metadata": {
        "id": "sU0LTx2gFZnv"
      },
      "source": [
        "combined_test_train = train.append(test, ignore_index = True)"
      ],
      "execution_count": 21,
      "outputs": []
    },
    {
      "cell_type": "code",
      "metadata": {
        "id": "B0FcX2VjGIx5"
      },
      "source": [
        "combined_test_train['id'] = combined_test_train['Item_Identifier'] + combined_test_train['Outlet_Identifier']"
      ],
      "execution_count": 22,
      "outputs": []
    },
    {
      "cell_type": "code",
      "metadata": {
        "id": "WqSsCtGfGxP0"
      },
      "source": [
        "combined_test_train.drop(['Item_Identifier'], axis=1, inplace=True)"
      ],
      "execution_count": 23,
      "outputs": []
    },
    {
      "cell_type": "markdown",
      "metadata": {
        "id": "qDm4OCabHB8A"
      },
      "source": [
        "We would have to create an EntitySet( structure having multiple dataframes and relationships between them) here. "
      ]
    },
    {
      "cell_type": "code",
      "metadata": {
        "id": "rZnr3LqhG8a2",
        "outputId": "84eaf56d-24cc-4b27-c5b9-1280cb206e1a",
        "colab": {
          "base_uri": "https://localhost:8080/",
          "height": 101
        }
      },
      "source": [
        "es = ft.EntitySet(id = 'sales')\n",
        "es.entity_from_dataframe(entity_id = 'bigmart', dataframe = combined_test_train, index = 'id')"
      ],
      "execution_count": 24,
      "outputs": [
        {
          "output_type": "execute_result",
          "data": {
            "text/plain": [
              "Entityset: sales\n",
              "  Entities:\n",
              "    bigmart [Rows: 14204, Columns: 11]\n",
              "  Relationships:\n",
              "    No relationships"
            ]
          },
          "metadata": {
            "tags": []
          },
          "execution_count": 24
        }
      ]
    },
    {
      "cell_type": "markdown",
      "metadata": {
        "id": "QWC23KZEIAV0"
      },
      "source": [
        "Featuretools here gives a functionality to split the data into multiple tables. Hence creating a table for outlet so that a relationship could be established. "
      ]
    },
    {
      "cell_type": "code",
      "metadata": {
        "id": "nJvz_QB7H64W",
        "outputId": "95f6a9dc-9fa5-4c1a-d098-8e491e7efb46",
        "colab": {
          "base_uri": "https://localhost:8080/",
          "height": 118
        }
      },
      "source": [
        "es.normalize_entity(base_entity_id='bigmart', new_entity_id='outlet', index = 'Outlet_Identifier', \n",
        "additional_variables = ['Outlet_Establishment_Year', 'Outlet_Size', 'Outlet_Location_Type', 'Outlet_Type'])"
      ],
      "execution_count": 25,
      "outputs": [
        {
          "output_type": "execute_result",
          "data": {
            "text/plain": [
              "Entityset: sales\n",
              "  Entities:\n",
              "    bigmart [Rows: 14204, Columns: 7]\n",
              "    outlet [Rows: 10, Columns: 5]\n",
              "  Relationships:\n",
              "    bigmart.Outlet_Identifier -> outlet.Outlet_Identifier"
            ]
          },
          "metadata": {
            "tags": []
          },
          "execution_count": 25
        }
      ]
    },
    {
      "cell_type": "markdown",
      "metadata": {
        "id": "J9lSU8PQQ8Mj"
      },
      "source": [
        "Now it has two entities having been related because of the outlet identifier. Now we will be using deep feature synthesis to create new features in the dataset"
      ]
    },
    {
      "cell_type": "code",
      "metadata": {
        "id": "l0x4J4ImRM-b",
        "outputId": "3d975168-4986-4ca4-bac4-78778cfec906",
        "colab": {
          "base_uri": "https://localhost:8080/",
          "height": 121
        }
      },
      "source": [
        "feature_matrix, feature_names = ft.dfs(entityset=es, \n",
        "target_entity = 'bigmart', \n",
        "max_depth = 2, \n",
        "verbose = 1, \n",
        "n_jobs = 3)"
      ],
      "execution_count": 27,
      "outputs": [
        {
          "output_type": "stream",
          "text": [
            "Built 33 features\n",
            "\rElapsed: 00:00 | Progress:   0%|          "
          ],
          "name": "stdout"
        },
        {
          "output_type": "stream",
          "text": [
            "/usr/local/lib/python3.6/dist-packages/featuretools/computational_backends/utils.py:153: UserWarning: 3 workers requested, but only 2 workers created.\n",
            "  warnings.warn(warning_string)\n"
          ],
          "name": "stderr"
        },
        {
          "output_type": "stream",
          "text": [
            "EntitySet scattered to 2 workers in 2 seconds\n",
            "Elapsed: 00:01 | Progress: 100%|██████████\n"
          ],
          "name": "stdout"
        }
      ]
    },
    {
      "cell_type": "code",
      "metadata": {
        "id": "MByQdkBmRf-C",
        "outputId": "e1199693-6695-4737-b709-d95198dd137a",
        "colab": {
          "base_uri": "https://localhost:8080/",
          "height": 262
        }
      },
      "source": [
        "feature_matrix.head()"
      ],
      "execution_count": 28,
      "outputs": [
        {
          "output_type": "execute_result",
          "data": {
            "text/html": [
              "<div>\n",
              "<style scoped>\n",
              "    .dataframe tbody tr th:only-of-type {\n",
              "        vertical-align: middle;\n",
              "    }\n",
              "\n",
              "    .dataframe tbody tr th {\n",
              "        vertical-align: top;\n",
              "    }\n",
              "\n",
              "    .dataframe thead th {\n",
              "        text-align: right;\n",
              "    }\n",
              "</style>\n",
              "<table border=\"1\" class=\"dataframe\">\n",
              "  <thead>\n",
              "    <tr style=\"text-align: right;\">\n",
              "      <th></th>\n",
              "      <th>Item_Weight</th>\n",
              "      <th>Item_Fat_Content</th>\n",
              "      <th>Item_Visibility</th>\n",
              "      <th>Item_Type</th>\n",
              "      <th>Item_MRP</th>\n",
              "      <th>Outlet_Identifier</th>\n",
              "      <th>outlet.Outlet_Establishment_Year</th>\n",
              "      <th>outlet.Outlet_Size</th>\n",
              "      <th>outlet.Outlet_Location_Type</th>\n",
              "      <th>outlet.Outlet_Type</th>\n",
              "      <th>outlet.COUNT(bigmart)</th>\n",
              "      <th>outlet.MAX(bigmart.Item_MRP)</th>\n",
              "      <th>outlet.MAX(bigmart.Item_Visibility)</th>\n",
              "      <th>outlet.MAX(bigmart.Item_Weight)</th>\n",
              "      <th>outlet.MEAN(bigmart.Item_MRP)</th>\n",
              "      <th>outlet.MEAN(bigmart.Item_Visibility)</th>\n",
              "      <th>outlet.MEAN(bigmart.Item_Weight)</th>\n",
              "      <th>outlet.MIN(bigmart.Item_MRP)</th>\n",
              "      <th>outlet.MIN(bigmart.Item_Visibility)</th>\n",
              "      <th>outlet.MIN(bigmart.Item_Weight)</th>\n",
              "      <th>outlet.MODE(bigmart.Item_Fat_Content)</th>\n",
              "      <th>outlet.MODE(bigmart.Item_Type)</th>\n",
              "      <th>outlet.NUM_UNIQUE(bigmart.Item_Fat_Content)</th>\n",
              "      <th>outlet.NUM_UNIQUE(bigmart.Item_Type)</th>\n",
              "      <th>outlet.SKEW(bigmart.Item_MRP)</th>\n",
              "      <th>outlet.SKEW(bigmart.Item_Visibility)</th>\n",
              "      <th>outlet.SKEW(bigmart.Item_Weight)</th>\n",
              "      <th>outlet.STD(bigmart.Item_MRP)</th>\n",
              "      <th>outlet.STD(bigmart.Item_Visibility)</th>\n",
              "      <th>outlet.STD(bigmart.Item_Weight)</th>\n",
              "      <th>outlet.SUM(bigmart.Item_MRP)</th>\n",
              "      <th>outlet.SUM(bigmart.Item_Visibility)</th>\n",
              "      <th>outlet.SUM(bigmart.Item_Weight)</th>\n",
              "    </tr>\n",
              "    <tr>\n",
              "      <th>id</th>\n",
              "      <th></th>\n",
              "      <th></th>\n",
              "      <th></th>\n",
              "      <th></th>\n",
              "      <th></th>\n",
              "      <th></th>\n",
              "      <th></th>\n",
              "      <th></th>\n",
              "      <th></th>\n",
              "      <th></th>\n",
              "      <th></th>\n",
              "      <th></th>\n",
              "      <th></th>\n",
              "      <th></th>\n",
              "      <th></th>\n",
              "      <th></th>\n",
              "      <th></th>\n",
              "      <th></th>\n",
              "      <th></th>\n",
              "      <th></th>\n",
              "      <th></th>\n",
              "      <th></th>\n",
              "      <th></th>\n",
              "      <th></th>\n",
              "      <th></th>\n",
              "      <th></th>\n",
              "      <th></th>\n",
              "      <th></th>\n",
              "      <th></th>\n",
              "      <th></th>\n",
              "      <th></th>\n",
              "      <th></th>\n",
              "      <th></th>\n",
              "    </tr>\n",
              "  </thead>\n",
              "  <tbody>\n",
              "    <tr>\n",
              "      <th>FDA15OUT049</th>\n",
              "      <td>9.30</td>\n",
              "      <td>Low Fat</td>\n",
              "      <td>0.016047</td>\n",
              "      <td>Dairy</td>\n",
              "      <td>249.8092</td>\n",
              "      <td>OUT049</td>\n",
              "      <td>1999</td>\n",
              "      <td>Medium</td>\n",
              "      <td>Tier 1</td>\n",
              "      <td>Supermarket Type1</td>\n",
              "      <td>1550</td>\n",
              "      <td>266.4884</td>\n",
              "      <td>0.187850</td>\n",
              "      <td>21.35</td>\n",
              "      <td>141.163199</td>\n",
              "      <td>0.059000</td>\n",
              "      <td>12.803003</td>\n",
              "      <td>32.4558</td>\n",
              "      <td>0.0</td>\n",
              "      <td>4.555</td>\n",
              "      <td>Low Fat</td>\n",
              "      <td>Fruits and Vegetables</td>\n",
              "      <td>5</td>\n",
              "      <td>16</td>\n",
              "      <td>0.126294</td>\n",
              "      <td>0.790782</td>\n",
              "      <td>0.099024</td>\n",
              "      <td>62.144594</td>\n",
              "      <td>0.043924</td>\n",
              "      <td>4.650796</td>\n",
              "      <td>218802.9588</td>\n",
              "      <td>91.450099</td>\n",
              "      <td>19844.655</td>\n",
              "    </tr>\n",
              "    <tr>\n",
              "      <th>DRC01OUT018</th>\n",
              "      <td>5.92</td>\n",
              "      <td>Regular</td>\n",
              "      <td>0.019278</td>\n",
              "      <td>Soft Drinks</td>\n",
              "      <td>48.2692</td>\n",
              "      <td>OUT018</td>\n",
              "      <td>2009</td>\n",
              "      <td>Medium</td>\n",
              "      <td>Tier 3</td>\n",
              "      <td>Supermarket Type2</td>\n",
              "      <td>1546</td>\n",
              "      <td>266.3226</td>\n",
              "      <td>0.188323</td>\n",
              "      <td>21.35</td>\n",
              "      <td>141.000899</td>\n",
              "      <td>0.059976</td>\n",
              "      <td>12.803638</td>\n",
              "      <td>31.8900</td>\n",
              "      <td>0.0</td>\n",
              "      <td>4.555</td>\n",
              "      <td>Low Fat</td>\n",
              "      <td>Fruits and Vegetables</td>\n",
              "      <td>5</td>\n",
              "      <td>16</td>\n",
              "      <td>0.133528</td>\n",
              "      <td>0.783017</td>\n",
              "      <td>0.102602</td>\n",
              "      <td>62.022851</td>\n",
              "      <td>0.044489</td>\n",
              "      <td>4.650874</td>\n",
              "      <td>217987.3906</td>\n",
              "      <td>92.723425</td>\n",
              "      <td>19794.425</td>\n",
              "    </tr>\n",
              "    <tr>\n",
              "      <th>FDN15OUT049</th>\n",
              "      <td>17.50</td>\n",
              "      <td>Low Fat</td>\n",
              "      <td>0.016760</td>\n",
              "      <td>Meat</td>\n",
              "      <td>141.6180</td>\n",
              "      <td>OUT049</td>\n",
              "      <td>1999</td>\n",
              "      <td>Medium</td>\n",
              "      <td>Tier 1</td>\n",
              "      <td>Supermarket Type1</td>\n",
              "      <td>1550</td>\n",
              "      <td>266.4884</td>\n",
              "      <td>0.187850</td>\n",
              "      <td>21.35</td>\n",
              "      <td>141.163199</td>\n",
              "      <td>0.059000</td>\n",
              "      <td>12.803003</td>\n",
              "      <td>32.4558</td>\n",
              "      <td>0.0</td>\n",
              "      <td>4.555</td>\n",
              "      <td>Low Fat</td>\n",
              "      <td>Fruits and Vegetables</td>\n",
              "      <td>5</td>\n",
              "      <td>16</td>\n",
              "      <td>0.126294</td>\n",
              "      <td>0.790782</td>\n",
              "      <td>0.099024</td>\n",
              "      <td>62.144594</td>\n",
              "      <td>0.043924</td>\n",
              "      <td>4.650796</td>\n",
              "      <td>218802.9588</td>\n",
              "      <td>91.450099</td>\n",
              "      <td>19844.655</td>\n",
              "    </tr>\n",
              "    <tr>\n",
              "      <th>FDX07OUT010</th>\n",
              "      <td>19.20</td>\n",
              "      <td>Regular</td>\n",
              "      <td>0.000000</td>\n",
              "      <td>Fruits and Vegetables</td>\n",
              "      <td>182.0950</td>\n",
              "      <td>OUT010</td>\n",
              "      <td>1998</td>\n",
              "      <td>missing</td>\n",
              "      <td>Tier 3</td>\n",
              "      <td>Grocery Store</td>\n",
              "      <td>925</td>\n",
              "      <td>266.6884</td>\n",
              "      <td>0.313935</td>\n",
              "      <td>21.35</td>\n",
              "      <td>141.159742</td>\n",
              "      <td>0.101939</td>\n",
              "      <td>12.722870</td>\n",
              "      <td>32.6558</td>\n",
              "      <td>0.0</td>\n",
              "      <td>4.610</td>\n",
              "      <td>Low Fat</td>\n",
              "      <td>Fruits and Vegetables</td>\n",
              "      <td>5</td>\n",
              "      <td>16</td>\n",
              "      <td>0.104693</td>\n",
              "      <td>0.776902</td>\n",
              "      <td>0.112759</td>\n",
              "      <td>62.010835</td>\n",
              "      <td>0.073604</td>\n",
              "      <td>4.675070</td>\n",
              "      <td>130572.7618</td>\n",
              "      <td>94.293418</td>\n",
              "      <td>11768.655</td>\n",
              "    </tr>\n",
              "    <tr>\n",
              "      <th>NCD19OUT013</th>\n",
              "      <td>8.93</td>\n",
              "      <td>Low Fat</td>\n",
              "      <td>0.000000</td>\n",
              "      <td>Household</td>\n",
              "      <td>53.8614</td>\n",
              "      <td>OUT013</td>\n",
              "      <td>1987</td>\n",
              "      <td>High</td>\n",
              "      <td>Tier 3</td>\n",
              "      <td>Supermarket Type1</td>\n",
              "      <td>1553</td>\n",
              "      <td>266.6884</td>\n",
              "      <td>0.185913</td>\n",
              "      <td>21.35</td>\n",
              "      <td>141.128428</td>\n",
              "      <td>0.060242</td>\n",
              "      <td>12.788139</td>\n",
              "      <td>31.4900</td>\n",
              "      <td>0.0</td>\n",
              "      <td>4.555</td>\n",
              "      <td>Low Fat</td>\n",
              "      <td>Fruits and Vegetables</td>\n",
              "      <td>5</td>\n",
              "      <td>16</td>\n",
              "      <td>0.130888</td>\n",
              "      <td>0.759033</td>\n",
              "      <td>0.104392</td>\n",
              "      <td>62.140848</td>\n",
              "      <td>0.044005</td>\n",
              "      <td>4.650214</td>\n",
              "      <td>219172.4492</td>\n",
              "      <td>93.555174</td>\n",
              "      <td>19859.980</td>\n",
              "    </tr>\n",
              "  </tbody>\n",
              "</table>\n",
              "</div>"
            ],
            "text/plain": [
              "             Item_Weight  ... outlet.SUM(bigmart.Item_Weight)\n",
              "id                        ...                                \n",
              "FDA15OUT049         9.30  ...                       19844.655\n",
              "DRC01OUT018         5.92  ...                       19794.425\n",
              "FDN15OUT049        17.50  ...                       19844.655\n",
              "FDX07OUT010        19.20  ...                       11768.655\n",
              "NCD19OUT013         8.93  ...                       19859.980\n",
              "\n",
              "[5 rows x 33 columns]"
            ]
          },
          "metadata": {
            "tags": []
          },
          "execution_count": 28
        }
      ]
    },
    {
      "cell_type": "code",
      "metadata": {
        "id": "ZeD-xg9ARvnD",
        "outputId": "f43b6931-664f-475e-ef01-9857f82ec5d2",
        "colab": {
          "base_uri": "https://localhost:8080/",
          "height": 34
        }
      },
      "source": [
        "feature_matrix.shape"
      ],
      "execution_count": 29,
      "outputs": [
        {
          "output_type": "execute_result",
          "data": {
            "text/plain": [
              "(14204, 33)"
            ]
          },
          "metadata": {
            "tags": []
          },
          "execution_count": 29
        }
      ]
    },
    {
      "cell_type": "markdown",
      "metadata": {
        "id": "F21UtTKgSGDt"
      },
      "source": [
        "Deep feature synthesis here creates some new features. "
      ]
    },
    {
      "cell_type": "code",
      "metadata": {
        "id": "X84Lwyc1RzC1",
        "outputId": "d4c30da7-d375-4f6e-fcb2-7d556437d4a3",
        "colab": {
          "base_uri": "https://localhost:8080/",
          "height": 571
        }
      },
      "source": [
        "feature_names"
      ],
      "execution_count": 30,
      "outputs": [
        {
          "output_type": "execute_result",
          "data": {
            "text/plain": [
              "[<Feature: Item_Weight>,\n",
              " <Feature: Item_Fat_Content>,\n",
              " <Feature: Item_Visibility>,\n",
              " <Feature: Item_Type>,\n",
              " <Feature: Item_MRP>,\n",
              " <Feature: Outlet_Identifier>,\n",
              " <Feature: outlet.Outlet_Establishment_Year>,\n",
              " <Feature: outlet.Outlet_Size>,\n",
              " <Feature: outlet.Outlet_Location_Type>,\n",
              " <Feature: outlet.Outlet_Type>,\n",
              " <Feature: outlet.COUNT(bigmart)>,\n",
              " <Feature: outlet.MAX(bigmart.Item_MRP)>,\n",
              " <Feature: outlet.MAX(bigmart.Item_Visibility)>,\n",
              " <Feature: outlet.MAX(bigmart.Item_Weight)>,\n",
              " <Feature: outlet.MEAN(bigmart.Item_MRP)>,\n",
              " <Feature: outlet.MEAN(bigmart.Item_Visibility)>,\n",
              " <Feature: outlet.MEAN(bigmart.Item_Weight)>,\n",
              " <Feature: outlet.MIN(bigmart.Item_MRP)>,\n",
              " <Feature: outlet.MIN(bigmart.Item_Visibility)>,\n",
              " <Feature: outlet.MIN(bigmart.Item_Weight)>,\n",
              " <Feature: outlet.MODE(bigmart.Item_Fat_Content)>,\n",
              " <Feature: outlet.MODE(bigmart.Item_Type)>,\n",
              " <Feature: outlet.NUM_UNIQUE(bigmart.Item_Fat_Content)>,\n",
              " <Feature: outlet.NUM_UNIQUE(bigmart.Item_Type)>,\n",
              " <Feature: outlet.SKEW(bigmart.Item_MRP)>,\n",
              " <Feature: outlet.SKEW(bigmart.Item_Visibility)>,\n",
              " <Feature: outlet.SKEW(bigmart.Item_Weight)>,\n",
              " <Feature: outlet.STD(bigmart.Item_MRP)>,\n",
              " <Feature: outlet.STD(bigmart.Item_Visibility)>,\n",
              " <Feature: outlet.STD(bigmart.Item_Weight)>,\n",
              " <Feature: outlet.SUM(bigmart.Item_MRP)>,\n",
              " <Feature: outlet.SUM(bigmart.Item_Visibility)>,\n",
              " <Feature: outlet.SUM(bigmart.Item_Weight)>]"
            ]
          },
          "metadata": {
            "tags": []
          },
          "execution_count": 30
        }
      ]
    },
    {
      "cell_type": "code",
      "metadata": {
        "id": "UzwZNzDER-V-"
      },
      "source": [
        ""
      ],
      "execution_count": null,
      "outputs": []
    }
  ]
}